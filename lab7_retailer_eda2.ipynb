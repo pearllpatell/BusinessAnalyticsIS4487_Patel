{
  "cells": [
    {
      "cell_type": "markdown",
      "metadata": {
        "id": "view-in-github",
        "colab_type": "text"
      },
      "source": [
        "<a href=\"https://colab.research.google.com/github/pearllpatell/is_4487_Patel/blob/main/lab7_retailer_eda2.ipynb\" target=\"_parent\"><img src=\"https://colab.research.google.com/assets/colab-badge.svg\" alt=\"Open In Colab\"/></a>"
      ]
    },
    {
      "cell_type": "markdown",
      "metadata": {
        "id": "21vrcZ0Kylkj"
      },
      "source": [
        "# IS 4487 Lab 7\n",
        "\n",
        "## Outline\n",
        "\n",
        "Begin where you left on in Lab 6 with the *SuperStore Retail Orders* dataset\n",
        "\n",
        "<a href=\"https://colab.research.google.com/github/Stan-Pugsley/is_4487_base/blob/main/Labs/Scripts/lab7_retailer_eda2.ipynb\" target=\"_parent\"><img src=\"https://colab.research.google.com/assets/colab-badge.svg\" alt=\"Open In Colab\"/></a>"
      ]
    },
    {
      "cell_type": "markdown",
      "metadata": {
        "id": "6Ed68-Aiylkm"
      },
      "source": [
        "## Load Libraries\n",
        "\n",
        "➡️ Assignment Tasks\n",
        "- Load any necessary libraries"
      ]
    },
    {
      "cell_type": "code",
      "execution_count": null,
      "metadata": {
        "vscode": {
          "languageId": "plaintext"
        },
        "id": "CTR7YGaYylkm"
      },
      "outputs": [],
      "source": []
    },
    {
      "cell_type": "markdown",
      "metadata": {
        "id": "AKxHmccyylkn"
      },
      "source": [
        "## Import Data into Dataframe\n",
        "\n",
        "➡️ Assignment Tasks\n",
        "- Import data from the SuperStore retail dataset into a dataframe (in GitHub go to Labs > DataSets)\n",
        "- Describe or profile the dataframe"
      ]
    },
    {
      "cell_type": "code",
      "execution_count": null,
      "metadata": {
        "vscode": {
          "languageId": "plaintext"
        },
        "id": "KBYms6TPylkn"
      },
      "outputs": [],
      "source": []
    },
    {
      "cell_type": "markdown",
      "metadata": {
        "id": "BBBX_W6Rylkn"
      },
      "source": [
        "## Prepare Data\n",
        "\n",
        "➡️ Assignment Tasks\n",
        "- Convert any numbers into the correct datatype if they are not already numeric\n",
        "- Convert any character variables in to factors if they are appropriate for that datatype\n",
        "- Check for outliers.   Remove any outliers that appear to be mistakes\n",
        "- Remove rows with empty (NULL) values\n",
        "- Identify at least one variable with a missing value that can be imputed.   Fill in those empty values.\n",
        "- Add a \"total_amount\" variable based on the quantity and price"
      ]
    },
    {
      "cell_type": "code",
      "execution_count": null,
      "metadata": {
        "vscode": {
          "languageId": "plaintext"
        },
        "id": "wWrG6cMcylkn"
      },
      "outputs": [],
      "source": [
        "#data preparation"
      ]
    },
    {
      "cell_type": "code",
      "execution_count": null,
      "metadata": {
        "vscode": {
          "languageId": "plaintext"
        },
        "id": "lebDdMjtylko"
      },
      "outputs": [],
      "source": [
        "#outlier check and cleanup"
      ]
    },
    {
      "cell_type": "code",
      "execution_count": null,
      "metadata": {
        "vscode": {
          "languageId": "plaintext"
        },
        "id": "679eO6fsylko"
      },
      "outputs": [],
      "source": [
        "#impute values"
      ]
    },
    {
      "cell_type": "markdown",
      "metadata": {
        "id": "nMvmEUEpylko"
      },
      "source": [
        "## Prepare Data - Continued\n",
        "\n",
        "➡️ Assignment Tasks\n",
        "- Create a variable called \"complete_customer_info\".   Use \"1\" for True and \"2\" for False.  All customer fields must be valid and not empty before this variable is True.\n",
        "- Create a bar chart showing the count of customers with complete informaiton versus incomplete information"
      ]
    },
    {
      "cell_type": "code",
      "execution_count": null,
      "metadata": {
        "vscode": {
          "languageId": "plaintext"
        },
        "id": "iQ7YsZseylkp"
      },
      "outputs": [],
      "source": [
        "#create variable"
      ]
    },
    {
      "cell_type": "code",
      "execution_count": null,
      "metadata": {
        "vscode": {
          "languageId": "plaintext"
        },
        "id": "i4w1kBImylkp"
      },
      "outputs": [],
      "source": [
        "#create chart"
      ]
    },
    {
      "cell_type": "markdown",
      "metadata": {
        "id": "4CivGfV3ylkp"
      },
      "source": [
        "## Prepare Data - Continued\n",
        "\n",
        "➡️ Assignment Tasks\n",
        "- Create seasonal buckets for Winter, Sprint, Summer, Fall\n",
        "- Create a chart to show revenue by season\n",
        "- Create a chart to show revenue by year"
      ]
    },
    {
      "cell_type": "code",
      "execution_count": null,
      "metadata": {
        "vscode": {
          "languageId": "plaintext"
        },
        "id": "XaKcy9OSylkp"
      },
      "outputs": [],
      "source": [
        "#seasonality"
      ]
    },
    {
      "cell_type": "code",
      "execution_count": null,
      "metadata": {
        "vscode": {
          "languageId": "plaintext"
        },
        "id": "EURoHPQrylkp"
      },
      "outputs": [],
      "source": [
        "#revenue over time"
      ]
    },
    {
      "cell_type": "markdown",
      "metadata": {
        "id": "WLNQxyuSylkp"
      },
      "source": [
        "## Prepare Data - Continued\n",
        "\n",
        "➡️ Assignment Tasks\n",
        "- Create a variable that will group product lines into \"Outdoor\" versus \"Indoor\" products.\n",
        "- Create a plot to show the correlation between outdoor/indoor versus season  "
      ]
    },
    {
      "cell_type": "code",
      "execution_count": null,
      "metadata": {
        "vscode": {
          "languageId": "plaintext"
        },
        "id": "z14uBO4dylkp"
      },
      "outputs": [],
      "source": [
        "#indoor/outdoor variable"
      ]
    }
  ],
  "metadata": {
    "language_info": {
      "name": "python"
    },
    "colab": {
      "provenance": [],
      "include_colab_link": true
    },
    "kernelspec": {
      "name": "python3",
      "display_name": "Python 3"
    }
  },
  "nbformat": 4,
  "nbformat_minor": 0
}