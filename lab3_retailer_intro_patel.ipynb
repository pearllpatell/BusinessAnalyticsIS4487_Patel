{
  "cells": [
    {
      "cell_type": "markdown",
      "metadata": {
        "id": "view-in-github",
        "colab_type": "text"
      },
      "source": [
        "<a href=\"https://colab.research.google.com/github/pearllpatell/is_4487_Patel/blob/main/lab3_retailer_intro_patel.ipynb\" target=\"_parent\"><img src=\"https://colab.research.google.com/assets/colab-badge.svg\" alt=\"Open In Colab\"/></a>"
      ]
    },
    {
      "cell_type": "markdown",
      "metadata": {
        "id": "ganGgGXxrsfW"
      },
      "source": [
        "# IS 4487 Lab 3\n",
        "\n",
        "## Outline\n",
        "\n",
        "Repeat exercises from Lab 2, but with the *SuperStore Retail Orders* dataset\n",
        "- Loading installed packages\n",
        "- Inspect data\n",
        "- Explore plot types\n",
        "\n",
        "<a href=\"https://colab.research.google.com/github/Stan-Pugsley/is_4487_base/blob/main/Labs/Scripts/lab3_retailer_intro.ipynb\" target=\"_parent\"><img src=\"https://colab.research.google.com/assets/colab-badge.svg\" alt=\"Open In Colab\"/></a>"
      ]
    },
    {
      "cell_type": "markdown",
      "metadata": {
        "id": "47_EqrOfrsfY"
      },
      "source": [
        "## Load Libraries\n",
        "\n",
        "➡️ Assignment Tasks\n",
        "- Load any necessary libraries"
      ]
    },
    {
      "cell_type": "code",
      "execution_count": null,
      "metadata": {
        "vscode": {
          "languageId": "plaintext"
        },
        "id": "Ijm8o-IprsfY"
      },
      "outputs": [],
      "source": [
        "import pandas as pd\n",
        "import matplotlib as mpl\n",
        "import sklearn as sl\n",
        "import matplotlib.pyplot as plt"
      ]
    },
    {
      "cell_type": "markdown",
      "metadata": {
        "id": "QrnfJdW2rsfY"
      },
      "source": [
        "## Import Data into Dataframe\n",
        "\n",
        "➡️ Assignment Tasks\n",
        "- Import data from the SuperStore retail dataset into a dataframe (in GitHub go to Labs > DataSets)\n",
        "- Describe or profile the dataframe"
      ]
    },
    {
      "cell_type": "code",
      "execution_count": null,
      "metadata": {
        "vscode": {
          "languageId": "plaintext"
        },
        "id": "PrA4zPeNrsfY",
        "outputId": "7fd30a3d-116c-41f3-9fe4-d45fd435f590",
        "colab": {
          "base_uri": "https://localhost:8080/"
        }
      },
      "outputs": [
        {
          "output_type": "stream",
          "name": "stdout",
          "text": [
            "      customer_id      customer_name          address_line_1          city  \\\n",
            "0              67      Gordy Matteau     59 Northland Circle    Wilmington   \n",
            "1             201     Cort Paskerful         769 Buell Drive    Huntsville   \n",
            "2              45    Willetta Lumley       41 Ridgeway Alley        Irvine   \n",
            "3             106   Alison Batterton           489 Erie Hill      Richmond   \n",
            "4             357  Martelle Paxeford    451 Manitowish Place      Richmond   \n",
            "...           ...                ...                     ...           ...   \n",
            "9564          637  Jayson Andriessen  0819 Crownhardt Circle     Allentown   \n",
            "9565          370    Darby Tesseyman     7468 Jackson Circle        Albany   \n",
            "9566          598   Henka De Ferrari      89 Sunnyside Drive  Redwood City   \n",
            "9567          737    Tommie Penvarne    9630 Washington Hill     Watertown   \n",
            "9568          482       Matelda Bull      6406 Bultman Alley  Gaithersburg   \n",
            "\n",
            "      state_province  postal_code  order_id order_date  customer_id.1  \\\n",
            "0                DE       19805.0      1001    1/11/20             67   \n",
            "1                AL       35810.0      1002   11/22/19            201   \n",
            "2                CA       92612.0      1003    9/17/19             45   \n",
            "3                VA       23293.0      1004    12/9/19            106   \n",
            "4                VA       23293.0      1005     6/8/19            357   \n",
            "...              ...          ...       ...        ...            ...   \n",
            "9564  Pennsylvania            NaN      8143    6/13/21            637   \n",
            "9565             NY       12210.0      8144    6/16/21            370   \n",
            "9566     California       94064.0      8145     5/9/21            598   \n",
            "9567  Massachusetts        2472.0      8146    4/13/21            737   \n",
            "9568       Maryland       20883.0      8147    3/21/21            482   \n",
            "\n",
            "      order_id.1  product_id  quantity  product_id.1            product_name  \\\n",
            "0           1001         106       3.0           106       Great value Juice   \n",
            "1           1002         104       2.0           104                    Desk   \n",
            "2           1003         107       5.0           107          Dove deodorant   \n",
            "3           1004         106       8.0           106       Great value Juice   \n",
            "4           1005         107       7.0           107          Dove deodorant   \n",
            "...          ...         ...       ...           ...                     ...   \n",
            "9564        8143         113      16.0           113          Extension cord   \n",
            "9565        8144         109       1.0           109  Samsung Galaxy Note 10   \n",
            "9566        8145         110       1.0           110         Apple iPad Mini   \n",
            "9567        8146         113       2.0           113          Extension cord   \n",
            "9568        8147         113       5.0           113          Extension cord   \n",
            "\n",
            "      product_price  total_amount order_year_month order_month  \n",
            "0              1.99          5.97          2020-01    January   \n",
            "1             85.98        171.96          2019-11   November   \n",
            "2              3.99         19.95          2019-09   September  \n",
            "3              1.99         15.92          2019-12   December   \n",
            "4              3.99         27.93          2019-06       June   \n",
            "...             ...           ...              ...         ...  \n",
            "9564          15.59        249.44          2021-06       June   \n",
            "9565         749.99        749.99          2021-06       June   \n",
            "9566         329.99        329.99          2021-05        May   \n",
            "9567          15.59         31.18          2021-04      April   \n",
            "9568          15.59         77.95          2021-03      March   \n",
            "\n",
            "[9569 rows x 18 columns]\n"
          ]
        }
      ],
      "source": [
        "df = pd.read_csv ('superstore_retail_orders.csv')\n",
        "\n",
        "print(df)"
      ]
    },
    {
      "cell_type": "markdown",
      "metadata": {
        "id": "_L9rOaaGrsfY"
      },
      "source": [
        "## Prepare Data\n",
        "\n",
        "➡️ Assignment Tasks\n",
        "- Convert the Total_Amount into a number (not a string)\n",
        "- Remove rows with empty (NULL) values\n",
        "- Optional: Locate outliers in any of the variables.   Filter them out if they are mistakes; keep them if they are exceptional cases."
      ]
    },
    {
      "cell_type": "code",
      "execution_count": null,
      "metadata": {
        "vscode": {
          "languageId": "plaintext"
        },
        "id": "j1m7LQHtrsfY",
        "outputId": "61b147c7-a344-4c37-dc91-b30a5311f301",
        "colab": {
          "base_uri": "https://localhost:8080/"
        }
      },
      "outputs": [
        {
          "output_type": "stream",
          "name": "stdout",
          "text": [
            "   customer_id      customer_name        address_line_1        city  \\\n",
            "0           67      Gordy Matteau   59 Northland Circle  Wilmington   \n",
            "1          201     Cort Paskerful       769 Buell Drive  Huntsville   \n",
            "2           45    Willetta Lumley     41 Ridgeway Alley      Irvine   \n",
            "3          106   Alison Batterton         489 Erie Hill    Richmond   \n",
            "4          357  Martelle Paxeford  451 Manitowish Place    Richmond   \n",
            "\n",
            "  state_province  postal_code  order_id order_date  customer_id.1  order_id.1  \\\n",
            "0            DE       19805.0      1001    1/11/20             67        1001   \n",
            "1            AL       35810.0      1002   11/22/19            201        1002   \n",
            "2            CA       92612.0      1003    9/17/19             45        1003   \n",
            "3            VA       23293.0      1004    12/9/19            106        1004   \n",
            "4            VA       23293.0      1005     6/8/19            357        1005   \n",
            "\n",
            "   product_id  quantity  product_id.1       product_name  product_price  \\\n",
            "0         106       3.0           106  Great value Juice           1.99   \n",
            "1         104       2.0           104               Desk          85.98   \n",
            "2         107       5.0           107     Dove deodorant           3.99   \n",
            "3         106       8.0           106  Great value Juice           1.99   \n",
            "4         107       7.0           107     Dove deodorant           3.99   \n",
            "\n",
            "   total_amount order_year_month order_month  \n",
            "0          5.97          2020-01    January   \n",
            "1        171.96          2019-11   November   \n",
            "2         19.95          2019-09   September  \n",
            "3         15.92          2019-12   December   \n",
            "4         27.93          2019-06       June   \n"
          ]
        }
      ],
      "source": [
        "df['total_amount'] = df['total_amount'].astype(float)\n",
        "\n",
        "print(df.head())"
      ]
    },
    {
      "cell_type": "code",
      "source": [
        "df['product_price'] = df['product_price'].astype(float)\n",
        "\n",
        "print(df.head())"
      ],
      "metadata": {
        "id": "_l3FabSVzIYp",
        "outputId": "974993ac-a870-40ca-9011-6f4eecce60c0",
        "colab": {
          "base_uri": "https://localhost:8080/"
        }
      },
      "execution_count": null,
      "outputs": [
        {
          "output_type": "stream",
          "name": "stdout",
          "text": [
            "   customer_id      customer_name        address_line_1        city  \\\n",
            "0           67      Gordy Matteau   59 Northland Circle  Wilmington   \n",
            "1          201     Cort Paskerful       769 Buell Drive  Huntsville   \n",
            "2           45    Willetta Lumley     41 Ridgeway Alley      Irvine   \n",
            "3          106   Alison Batterton         489 Erie Hill    Richmond   \n",
            "4          357  Martelle Paxeford  451 Manitowish Place    Richmond   \n",
            "\n",
            "  state_province  postal_code  order_id order_date  customer_id.1  order_id.1  \\\n",
            "0            DE       19805.0      1001    1/11/20             67        1001   \n",
            "1            AL       35810.0      1002   11/22/19            201        1002   \n",
            "2            CA       92612.0      1003    9/17/19             45        1003   \n",
            "3            VA       23293.0      1004    12/9/19            106        1004   \n",
            "4            VA       23293.0      1005     6/8/19            357        1005   \n",
            "\n",
            "   product_id  quantity  product_id.1       product_name  product_price  \\\n",
            "0         106       3.0           106  Great value Juice           1.99   \n",
            "1         104       2.0           104               Desk          85.98   \n",
            "2         107       5.0           107     Dove deodorant           3.99   \n",
            "3         106       8.0           106  Great value Juice           1.99   \n",
            "4         107       7.0           107     Dove deodorant           3.99   \n",
            "\n",
            "   total_amount order_year_month order_month  \n",
            "0          5.97          2020-01    January   \n",
            "1        171.96          2019-11   November   \n",
            "2         19.95          2019-09   September  \n",
            "3         15.92          2019-12   December   \n",
            "4         27.93          2019-06       June   \n"
          ]
        }
      ]
    },
    {
      "cell_type": "code",
      "source": [
        "df_cleaned = df.dropna()"
      ],
      "metadata": {
        "id": "coQyXPJYwUNM"
      },
      "execution_count": null,
      "outputs": []
    },
    {
      "cell_type": "markdown",
      "metadata": {
        "id": "16v8PK0ursfZ"
      },
      "source": [
        "## Summarize Data\n",
        "\n",
        "➡️ Assignment Tasks\n",
        "- Display the average price per month\n",
        "- Display the total revenue for all months"
      ]
    },
    {
      "cell_type": "code",
      "execution_count": null,
      "metadata": {
        "vscode": {
          "languageId": "plaintext"
        },
        "id": "wFb7LrtprsfZ"
      },
      "outputs": [],
      "source": [
        "#average price"
      ]
    },
    {
      "cell_type": "code",
      "source": [
        "average_price_per_month = df.groupby('order_month')['product_price'].mean()\n",
        "\n",
        "print(average_price_per_month)\n"
      ],
      "metadata": {
        "id": "dooU53JDtobi",
        "outputId": "21ba44d5-10f9-4dc1-c5eb-ffd109086edb",
        "colab": {
          "base_uri": "https://localhost:8080/"
        }
      },
      "execution_count": null,
      "outputs": [
        {
          "output_type": "stream",
          "name": "stdout",
          "text": [
            "order_month\n",
            "April        297.966332\n",
            "August       290.858768\n",
            "December     280.243951\n",
            "February     282.229433\n",
            "January      265.387668\n",
            "July         273.863429\n",
            "June         303.961971\n",
            "March        280.806920\n",
            "May          295.372884\n",
            "November     274.046641\n",
            "October      323.479632\n",
            "September    298.261053\n",
            "Name: product_price, dtype: float64\n"
          ]
        }
      ]
    },
    {
      "cell_type": "code",
      "execution_count": null,
      "metadata": {
        "vscode": {
          "languageId": "plaintext"
        },
        "id": "y0zYxkyArsfZ"
      },
      "outputs": [],
      "source": [
        "#total revenue"
      ]
    },
    {
      "cell_type": "code",
      "source": [
        "# Group by 'order_month' and sum up the total revenue\n",
        "total_revenue_per_month = df.groupby('order_month')['total_amount'].sum()\n",
        "\n",
        "# Display the total revenue per month\n",
        "print(total_revenue_per_month)\n"
      ],
      "metadata": {
        "id": "4jwchhTMxlsk",
        "outputId": "9894c330-9c2d-4a6e-89a2-f5d32c7d5a73",
        "colab": {
          "base_uri": "https://localhost:8080/"
        }
      },
      "execution_count": null,
      "outputs": [
        {
          "output_type": "stream",
          "name": "stdout",
          "text": [
            "order_month\n",
            "April        301678.10\n",
            "August       293095.48\n",
            "December     258735.31\n",
            "February     207260.42\n",
            "January      225844.44\n",
            "July         256323.17\n",
            "June         293367.12\n",
            "March        260008.49\n",
            "May          294409.04\n",
            "November     256056.54\n",
            "October      285769.34\n",
            "September    248301.95\n",
            "Name: total_amount, dtype: float64\n"
          ]
        }
      ]
    }
  ],
  "metadata": {
    "language_info": {
      "name": "python"
    },
    "colab": {
      "provenance": [],
      "include_colab_link": true
    },
    "kernelspec": {
      "name": "python3",
      "display_name": "Python 3"
    }
  },
  "nbformat": 4,
  "nbformat_minor": 0
}